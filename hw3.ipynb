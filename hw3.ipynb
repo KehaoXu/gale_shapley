{
 "cells": [
  {
   "cell_type": "markdown",
   "metadata": {},
   "source": [
    "1"
   ]
  },
  {
   "cell_type": "code",
   "execution_count": 1,
   "metadata": {},
   "outputs": [],
   "source": [
    "import numpy as np"
   ]
  },
  {
   "cell_type": "code",
   "execution_count": 3,
   "metadata": {},
   "outputs": [],
   "source": [
    "def GaleShapleyAlgorithm(P1,P2):\n",
    "    \"\"\"\n",
    "    P1:column rank\n",
    "    P2:row rank\n",
    "    Group1 propose(P1 column)\n",
    "    \"\"\"\n",
    "    Match = np.zeros(P1.shape)\n",
    "    NumStages = 0\n",
    "    m = P1.shape[0] #group2\n",
    "    n = P1.shape[1] #group1\n",
    "    num = n\n",
    "\n",
    "    while(np.sum(Match) < num):\n",
    "        p1_idx = np.argmin(P1,axis=0) #\n",
    "\n",
    "        #find match\n",
    "        for i,j in enumerate(p1_idx): #i is the index\n",
    "            Match[j,i] = 1\n",
    "\n",
    "        t = Match * P2 #temp\n",
    "        t[t == 0] = n + 1 #clear unrelevant match with large number\n",
    "        rej = (t > np.min(t,axis=1,keepdims=True)) & (t < n+1) #find the lower priority\n",
    "        t[rej] = n + 1 #reject the lower priority\n",
    "        Match = (t <= n).astype(int) #update match\n",
    "\n",
    "        rej_idx = np.where(rej == True)\n",
    "        P1[rej_idx[0],rej_idx[1]]=m+1 #clear the rejected match\n",
    "        \n",
    "        num = num - np.sum((np.sum(P1,axis=0)==m*(m+1))) #if all the match of one column is rejected\n",
    "\n",
    "        NumStages = NumStages + 1\n",
    "        # print(np.sum(Match))\n",
    "        # print(np.min([m,n]))\n",
    "\n",
    "    return Match, NumStages\n"
   ]
  },
  {
   "cell_type": "markdown",
   "metadata": {},
   "source": [
    "(a)  \n",
    "For Q1"
   ]
  },
  {
   "cell_type": "code",
   "execution_count": 4,
   "metadata": {},
   "outputs": [
    {
     "name": "stdout",
     "output_type": "stream",
     "text": [
      "[[0 0 1 0]\n",
      " [0 0 0 1]\n",
      " [1 0 0 0]\n",
      " [0 1 0 0]]\n",
      "stages: 5\n",
      "[[1 0 0 0]\n",
      " [0 0 1 0]\n",
      " [0 1 0 0]\n",
      " [0 0 0 1]]\n",
      "stages: 2\n"
     ]
    }
   ],
   "source": [
    "\n",
    "P1 = np.array([[3,3,2,3],[4,1,3,2],[2,4,4,1],[1,2,1,4]])\n",
    "P2 = np.array([[1,2,3,4],[1,4,2,3],[2,1,3,4],[4,2,3,1]])\n",
    "Match, NumStages = GaleShapleyAlgorithm(P1,P2)\n",
    "print(Match)\n",
    "print(\"stages:\", NumStages)\n",
    "\n",
    "Match, NumStages = GaleShapleyAlgorithm(P2.T,P1.T)\n",
    "print(Match.T)\n",
    "print(\"stages:\",NumStages)\n"
   ]
  },
  {
   "cell_type": "markdown",
   "metadata": {},
   "source": [
    "For Q2\n"
   ]
  },
  {
   "cell_type": "code",
   "execution_count": 5,
   "metadata": {},
   "outputs": [
    {
     "name": "stdout",
     "output_type": "stream",
     "text": [
      "[[0 1 0 0 0]\n",
      " [0 0 1 0 0]\n",
      " [0 0 0 1 0]]\n",
      "stages: 4\n",
      "[[0 1 0 0 0]\n",
      " [0 0 1 0 0]\n",
      " [0 0 0 1 0]]\n",
      "stages: 2\n"
     ]
    }
   ],
   "source": [
    "P1 = np.array([[1,1,2,3,3],[2,3,1,1,2],[3,2,3,2,1]])\n",
    "P2 = np.array([[2,1,3,4,5],[3,1,2,5,4],[3,1,4,2,5]])\n",
    "Match, NumStages = GaleShapleyAlgorithm(P1,P2)\n",
    "print(Match)\n",
    "print(\"stages:\", NumStages)\n",
    "\n",
    "Match, NumStages = GaleShapleyAlgorithm(P2.T,P1.T)\n",
    "print(Match.T)\n",
    "print(\"stages:\", NumStages)"
   ]
  },
  {
   "cell_type": "markdown",
   "metadata": {},
   "source": [
    "2  "
   ]
  },
  {
   "cell_type": "code",
   "execution_count": 6,
   "metadata": {},
   "outputs": [],
   "source": [
    "import scipy.io as scio\n",
    "\n",
    "def test(datafile):\n",
    "    data = scio.loadmat(datafile)\n",
    "    # print(data.keys())\n",
    "    P1 = data['P1'] #row rank\n",
    "    P2 = data['P2'] #colonm rank\n",
    "\n",
    "    #from one side\n",
    "    Match1, NumStages = GaleShapleyAlgorithm(P2,P1)\n",
    "    print(\"students propose:\\n\", Match1, \"stages:\", NumStages)\n",
    "\n",
    "    #from the other side\n",
    "    Match2, NumStages = GaleShapleyAlgorithm(P1.T,P2.T)\n",
    "    print(\"hospitals propose:\\n\", Match2.T, \"stages:\", NumStages)\n",
    "\n",
    "    print(\"uniqueness:\", np.sum(Match1 != Match2.T)) #0 means same and unique\n"
   ]
  },
  {
   "cell_type": "markdown",
   "metadata": {},
   "source": [
    "Q1"
   ]
  },
  {
   "cell_type": "code",
   "execution_count": 7,
   "metadata": {},
   "outputs": [
    {
     "name": "stdout",
     "output_type": "stream",
     "text": [
      "students propose:\n",
      " [[1 0 0 0 0]\n",
      " [0 0 0 1 0]\n",
      " [0 0 0 0 1]\n",
      " [0 0 1 0 0]\n",
      " [0 1 0 0 0]] stages: 5\n",
      "hospitals propose:\n",
      " [[1 0 0 0 0]\n",
      " [0 0 0 1 0]\n",
      " [0 0 0 0 1]\n",
      " [0 0 1 0 0]\n",
      " [0 1 0 0 0]] stages: 2\n",
      "uniqueness: 0\n"
     ]
    }
   ],
   "source": [
    "Q1 = 'gale_shapley_programming_files\\gale_shapley_programming_files\\Q1.mat'\n",
    "test(Q1)\n"
   ]
  },
  {
   "cell_type": "markdown",
   "metadata": {},
   "source": [
    "It is the unique stable matching, taking 5 and 2 stages from students and hospitals side respectively.  \n",
    "It is optimal for both groups."
   ]
  },
  {
   "cell_type": "markdown",
   "metadata": {},
   "source": [
    "Q2"
   ]
  },
  {
   "cell_type": "code",
   "execution_count": 8,
   "metadata": {},
   "outputs": [
    {
     "name": "stdout",
     "output_type": "stream",
     "text": [
      "students propose:\n",
      " [[0 0 0 0 0 0 0 0 0 0 1 0 0 0 0 0 0 0 0 0]\n",
      " [0 0 0 0 0 0 0 1 0 0 0 0 0 0 0 0 0 0 0 0]\n",
      " [0 0 0 0 0 0 0 0 0 0 0 0 0 0 1 0 0 0 0 0]\n",
      " [0 0 0 0 0 0 1 0 0 0 0 0 0 0 0 0 0 0 0 0]] stages: 5\n",
      "hospitals propose:\n",
      " [[0 0 0 0 0 0 0 0 0 0 1 0 0 0 0 0 0 0 0 0]\n",
      " [0 0 0 0 0 0 0 1 0 0 0 0 0 0 0 0 0 0 0 0]\n",
      " [0 0 0 0 0 0 0 0 0 0 0 0 0 0 1 0 0 0 0 0]\n",
      " [0 0 0 0 0 0 1 0 0 0 0 0 0 0 0 0 0 0 0 0]] stages: 1\n",
      "uniqueness: 0\n"
     ]
    }
   ],
   "source": [
    "Q2 = 'gale_shapley_programming_files\\gale_shapley_programming_files\\Q2.mat'\n",
    "test(Q2)\n"
   ]
  },
  {
   "cell_type": "markdown",
   "metadata": {},
   "source": [
    "It is the unique stable matching, taking 5 and 1 stages from students and hospitals side respectively.  \n",
    "It is optimal for both groups."
   ]
  },
  {
   "cell_type": "markdown",
   "metadata": {},
   "source": [
    "Q3"
   ]
  },
  {
   "cell_type": "code",
   "execution_count": 9,
   "metadata": {},
   "outputs": [
    {
     "name": "stdout",
     "output_type": "stream",
     "text": [
      "students propose:\n",
      " [[1 0 0 0]\n",
      " [0 0 1 0]\n",
      " [0 0 0 1]\n",
      " [0 1 0 0]] stages: 3\n",
      "hospitals propose:\n",
      " [[1 0 0 0]\n",
      " [0 0 1 0]\n",
      " [0 0 0 1]\n",
      " [0 1 0 0]] stages: 3\n",
      "uniqueness: 0\n"
     ]
    }
   ],
   "source": [
    "Q3 = 'gale_shapley_programming_files\\gale_shapley_programming_files\\Q3.mat'\n",
    "test(Q3)"
   ]
  },
  {
   "cell_type": "markdown",
   "metadata": {},
   "source": [
    "It is the unique stable matching, taking 3 and 3 stages from students and hospitals side respectively.  \n",
    "It is optimal for both groups."
   ]
  },
  {
   "cell_type": "markdown",
   "metadata": {},
   "source": [
    "3  \n",
    "The group who propose will get a optimal match for them.  \n",
    "I think Gale-Shapley algorithm should be run with hospitals proposing, because the stages it takes are less than applicants proposing, especially when hospitals are much less than applicants.  \n",
    "However, if the matches are not unique, the result may harm applicants' preference."
   ]
  },
  {
   "cell_type": "markdown",
   "metadata": {},
   "source": [
    "4"
   ]
  },
  {
   "cell_type": "code",
   "execution_count": 10,
   "metadata": {},
   "outputs": [],
   "source": [
    "def GaleShapleyAlgorithm_student(P1,P2,quota):\n",
    "    \"\"\"\n",
    "    P1:column rank, student\n",
    "    P2:row rank, hospital\n",
    "    Group1 propose(P1 column)\n",
    "    \"\"\"\n",
    "    Match = np.zeros(P1.shape)\n",
    "    NumStages = 0\n",
    "    m = P1.shape[0] #group2\n",
    "    n = P1.shape[1] #group1\n",
    "    quota = quota.reshape(1,-1) #reshape quota\n",
    "    f = Match.copy() #every proposal match\n",
    "    s = Match.copy() #save match as output\n",
    "\n",
    "    \n",
    "    while(1):\n",
    "        p1_idx = np.argmin(P1,axis=0) #\n",
    "\n",
    "        #find match\n",
    "        for i,j in enumerate(p1_idx): #i is the index\n",
    "            Match[j,i] = 1\n",
    "\n",
    "        if (f == Match).all(): #if the match is not changed,\n",
    "            Match = s.copy() #output the last match\n",
    "            break\n",
    "        else:\n",
    "            f = Match.copy()\n",
    "\n",
    "        q = np.sum(Match,axis=1,keepdims=True) #q choose the top quota\n",
    "        for i,j in enumerate(q):\n",
    "            # print(j[0],quota.shape)\n",
    "            if j[0] > quota[0][i]:\n",
    "                t = Match[i,:] * P2[i,:] #temp\n",
    "                t[t == 0] = n + 1 #clear unrelevant match with large number\n",
    "                \n",
    "                rej = (np.argsort(t))[quota[0][i]:int(-n+j)] #find the lower priority\n",
    "                Match[i,rej] = 0 #reject the lower priority\n",
    "\n",
    "                P1[i,rej]=m+1 #clear the rejected match\n",
    "\n",
    "        s = Match.copy() #save the match\n",
    "\n",
    "        NumStages = NumStages + 1\n",
    "\n",
    "        # print(np.sum(Match))\n",
    "        # print(np.min([m,n]))\n",
    "\n",
    "    return Match, NumStages\n"
   ]
  },
  {
   "cell_type": "code",
   "execution_count": 11,
   "metadata": {},
   "outputs": [],
   "source": [
    "def GaleShapleyAlgorithm_hospital(P1,P2,quota):\n",
    "    \"\"\"\n",
    "    P1:column rank, hospital\n",
    "    P2:row rank, student\n",
    "    Group1 propose(P1 column)\n",
    "    \"\"\"\n",
    "    Match = np.zeros(P1.shape)\n",
    "    NumStages = 0\n",
    "    m = P1.shape[0] #group2\n",
    "    n = P1.shape[1] #group1\n",
    "    quota = quota.reshape(1,-1) #reshape quota\n",
    "    num = np.sum(quota) #total match number\n",
    "    f = Match.copy() #every proposal match\n",
    "    s = Match.copy() #save match as output\n",
    "\n",
    "    while(1):\n",
    "        for i in range(n):\n",
    "            pps = (np.argsort(P1[:,i]))[:quota[0][i]]\n",
    "            Match[pps,i] = 1\n",
    "\n",
    "        if (f == Match).all(): #if the match is not changed\n",
    "            Match = s.copy() #output the last match\n",
    "            break\n",
    "        else:\n",
    "            f = Match.copy() \n",
    "            \n",
    "        q = np.sum(Match,axis=1,keepdims=True) #q choose the top quota\n",
    "        for i,j in enumerate(q):\n",
    "            if j > 1:\n",
    "                t = Match[i,:] * P2[i,:] #temp\n",
    "                t[t == 0] = n + 1 #clear unrelevant match with large number\n",
    "\n",
    "                rej = (np.argsort(t))[1:] #find the lower priority\n",
    "\n",
    "                Match[i,rej] = 0 #reject the lower priority\n",
    "                P1[i,rej]=m+1 #clear the rejected match\n",
    "\n",
    "        s = Match.copy() #save the match\n",
    "        \n",
    "        NumStages = NumStages + 1\n",
    "\n",
    "        # print(np.sum(Match))\n",
    "        # print(np.min([m,n]))\n",
    "\n",
    "    return Match, NumStages\n"
   ]
  },
  {
   "cell_type": "code",
   "execution_count": 12,
   "metadata": {},
   "outputs": [],
   "source": [
    "def test_quota(Q):\n",
    "    data = scio.loadmat(Q)\n",
    "\n",
    "    P1 = data['P1'] #row rank\n",
    "    P2 = data['P2'] #colonm rank\n",
    "    quota = data['Quota']\n",
    "\n",
    "    #from one side\n",
    "    Match1, NumStages = GaleShapleyAlgorithm_student(P2,P1,quota)\n",
    "    print(\"students propose:\\n\", Match1, \"stages:\", NumStages, \"num:\", np.sum(Match1))\n",
    "\n",
    "    #from the other side\n",
    "    Match2, NumStages = GaleShapleyAlgorithm_hospital(P1.T,P2.T,quota)\n",
    "    print(\"hospitals propose:\\n\", Match2.T, \"stages:\", NumStages, \"num:\", np.sum(Match2))\n",
    "\n",
    "    print(\"uniqueness:\", np.sum(Match1 != Match2.T)) #0 means same and unique"
   ]
  },
  {
   "cell_type": "code",
   "execution_count": 13,
   "metadata": {},
   "outputs": [
    {
     "name": "stdout",
     "output_type": "stream",
     "text": [
      "students propose:\n",
      " [[1. 0. 0. 0. 0.]\n",
      " [0. 0. 0. 1. 0.]\n",
      " [0. 1. 0. 0. 1.]\n",
      " [0. 0. 1. 0. 0.]\n",
      " [0. 0. 0. 0. 0.]] stages: 4 num: 5.0\n",
      "hospitals propose:\n",
      " [[1. 1. 0. 0. 0.]\n",
      " [0. 0. 0. 1. 0.]\n",
      " [0. 0. 0. 0. 1.]\n",
      " [0. 0. 1. 0. 0.]\n",
      " [0. 0. 0. 0. 0.]] stages: 3 num: 5.0\n",
      "uniqueness: 2\n"
     ]
    }
   ],
   "source": [
    "test_quota(Q1)"
   ]
  },
  {
   "cell_type": "markdown",
   "metadata": {},
   "source": [
    "There is no unique stable matching.  \n",
    "It takes 4 and 3 stages from students and hospitals side respectively.  \n",
    "The result is optimal for the group who propose."
   ]
  },
  {
   "cell_type": "code",
   "execution_count": 14,
   "metadata": {},
   "outputs": [
    {
     "name": "stdout",
     "output_type": "stream",
     "text": [
      "students propose:\n",
      " [[1. 0. 0. 1. 0. 1. 0. 0. 0. 0. 0. 1. 0. 0. 0. 0. 0. 0. 0. 0.]\n",
      " [0. 0. 1. 0. 0. 0. 0. 1. 1. 1. 0. 0. 1. 0. 0. 1. 0. 0. 0. 0.]\n",
      " [0. 1. 0. 0. 0. 0. 1. 0. 0. 0. 0. 0. 0. 1. 1. 0. 0. 0. 0. 1.]\n",
      " [0. 0. 0. 0. 0. 0. 0. 0. 0. 0. 1. 0. 0. 0. 0. 0. 0. 1. 1. 0.]] stages: 14 num: 18.0\n",
      "hospitals propose:\n",
      " [[1. 0. 0. 0. 0. 1. 0. 0. 0. 0. 0. 1. 0. 0. 0. 0. 0. 0. 1. 0.]\n",
      " [0. 0. 1. 0. 0. 0. 0. 1. 1. 1. 0. 0. 1. 0. 0. 1. 0. 0. 0. 0.]\n",
      " [0. 0. 0. 0. 0. 0. 1. 0. 0. 0. 1. 0. 0. 1. 1. 0. 0. 0. 0. 1.]\n",
      " [0. 1. 0. 0. 1. 0. 0. 0. 0. 0. 0. 0. 0. 0. 0. 0. 0. 1. 0. 0.]] stages: 5 num: 18.0\n",
      "uniqueness: 8\n"
     ]
    }
   ],
   "source": [
    "test_quota(Q2)"
   ]
  },
  {
   "cell_type": "markdown",
   "metadata": {},
   "source": [
    "There is no unique stable matching.  \n",
    "It takes 14 and 5 stages from students and hospitals side respectively.  \n",
    "The result is optimal for the group who propose."
   ]
  },
  {
   "cell_type": "code",
   "execution_count": 15,
   "metadata": {},
   "outputs": [
    {
     "name": "stdout",
     "output_type": "stream",
     "text": [
      "students propose:\n",
      " [[1. 0. 0. 0.]\n",
      " [0. 0. 1. 0.]\n",
      " [0. 0. 0. 1.]\n",
      " [0. 1. 0. 0.]] stages: 3 num: 4.0\n",
      "hospitals propose:\n",
      " [[1. 0. 0. 0.]\n",
      " [0. 0. 1. 0.]\n",
      " [0. 0. 0. 1.]\n",
      " [0. 1. 0. 0.]] stages: 4 num: 4.0\n",
      "uniqueness: 0\n"
     ]
    }
   ],
   "source": [
    "test_quota(Q3)"
   ]
  },
  {
   "cell_type": "markdown",
   "metadata": {},
   "source": [
    "It is the unique stable matching, taking 3 and 4 stages from students and hospitals side respectively.  \n",
    "It is optimal for both groups."
   ]
  },
  {
   "cell_type": "markdown",
   "metadata": {},
   "source": [
    "When students are much more than hospitals, we should run with hospitals proposing. It takes less stages, while the result will harm students' preference.  \n"
   ]
  },
  {
   "cell_type": "markdown",
   "metadata": {},
   "source": [
    "5  \n",
    "There are 2 different stable matchings in Q1 and Q2.  The number of unoccupied residency position are the same.  \n",
    "It implies that stability means the same occupied residency position while does not mean optimal for everyone and may harm fairness."
   ]
  }
 ],
 "metadata": {
  "kernelspec": {
   "display_name": "py38-test",
   "language": "python",
   "name": "python3"
  },
  "language_info": {
   "codemirror_mode": {
    "name": "ipython",
    "version": 3
   },
   "file_extension": ".py",
   "mimetype": "text/x-python",
   "name": "python",
   "nbconvert_exporter": "python",
   "pygments_lexer": "ipython3",
   "version": "3.8.19"
  }
 },
 "nbformat": 4,
 "nbformat_minor": 2
}
